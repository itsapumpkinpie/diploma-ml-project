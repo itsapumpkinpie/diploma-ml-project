{
 "cells": [
  {
   "cell_type": "code",
   "execution_count": 1,
   "id": "769bd77897f7cfcf",
   "metadata": {
    "ExecuteTime": {
     "end_time": "2024-06-08T12:34:34.745558Z",
     "start_time": "2024-06-08T12:34:32.408022Z"
    }
   },
   "outputs": [
    {
     "name": "stderr",
     "output_type": "stream",
     "text": [
      "2024-06-08 17:00:36.803230: I external/local_tsl/tsl/cuda/cudart_stub.cc:32] Could not find cuda drivers on your machine, GPU will not be used.\n",
      "2024-06-08 17:00:36.805492: I external/local_tsl/tsl/cuda/cudart_stub.cc:32] Could not find cuda drivers on your machine, GPU will not be used.\n",
      "2024-06-08 17:00:36.834659: I tensorflow/core/platform/cpu_feature_guard.cc:210] This TensorFlow binary is optimized to use available CPU instructions in performance-critical operations.\n",
      "To enable the following instructions: AVX2 FMA, in other operations, rebuild TensorFlow with the appropriate compiler flags.\n",
      "2024-06-08 17:00:37.515673: W tensorflow/compiler/tf2tensorrt/utils/py_utils.cc:38] TF-TRT Warning: Could not find TensorRT\n"
     ]
    }
   ],
   "source": [
    "import pandas as pd\n",
    "import seaborn as sns\n",
    "import matplotlib.pyplot as plt\n",
    "from sklearn.preprocessing import OneHotEncoder \n",
    "from sklearn.model_selection import train_test_split\n",
    "from tensorflow.keras import models\n",
    "from tensorflow.keras import layers\n",
    "from tensorflow.keras import regularizers\n",
    "import numpy as np\n"
   ]
  },
  {
   "cell_type": "code",
   "execution_count": 2,
   "id": "fffe0c3e-c2bc-46fa-8b3a-2b09f8971957",
   "metadata": {},
   "outputs": [],
   "source": [
    "data_frame_one = pd.read_csv('oneroom.csv', delimiter=';', header=0)\n",
    "data_frame_two = pd.read_csv('tworoom.csv', delimiter=';', header=0)\n",
    "data_frame_three = pd.read_csv('3room.csv', on_bad_lines='skip', delimiter=';', header=0)\n",
    "data_frame_all = pd.read_csv('all.csv', delimiter=';', header=0) \n",
    "data_frame = result = pd.concat([data_frame_one, data_frame_two, data_frame_three, data_frame_all], ignore_index=True)"
   ]
  },
  {
   "cell_type": "code",
   "execution_count": 3,
   "id": "759dc190-ed9b-44c3-b9f2-f465f047c9f7",
   "metadata": {},
   "outputs": [],
   "source": [
    "data_frame = data_frame[(data_frame['price'] <= 25000000) & (data_frame['price'] > 1000000)]"
   ]
  },
  {
   "cell_type": "code",
   "execution_count": 4,
   "id": "8b9c36a7-2846-4670-8d77-7a3e50943eff",
   "metadata": {},
   "outputs": [],
   "source": [
    "# data_frame = data_frame[data_frame['rooms_count'] > 0]\n",
    "# data_frame = data_frame.query('rooms_count > 0')"
   ]
  },
  {
   "cell_type": "code",
   "execution_count": 5,
   "id": "0da59838-1c3e-4ae6-8c8b-c1b201795879",
   "metadata": {},
   "outputs": [
    {
     "data": {
      "text/plain": [
       "array([nan, 'мкр. Школьный', 'мкр. 9-й километр', 'Прикубанский',\n",
       "       'Карасунский', 'мкр. ХБК', 'мкр. Черемушки', 'мкр. КСК',\n",
       "       'мкр. Гидростроителей', 'мкр. РИП', 'Черемушки мкр', 'Центральный',\n",
       "       'мкр. Новознаменский', 'Новая Елизаветка кп', 'Догма Парк мкр',\n",
       "       'мкр. Табачная фабрика', 'мкр. Калинино',\n",
       "       'на 3 этаже. Новый жилой комплекс \"Лето\" от застройщика \"ГК Дарстрой\" расположен по адресу город Краснодар',\n",
       "       'Плодородный-2 мкр', 'Сады Калинина мкр', 'мкр. Славянский',\n",
       "       'Новознаменский ДНТ', 'Имени Петра Метальникова мкр',\n",
       "       'Имени Демьяна Бедного жилмассив', 'мкр. Аврора',\n",
       "       'мкр. Центральный', 'Музыкальный мкр', 'Зеленодар ЖК',\n",
       "       'на 4 этаже. Новый жилой комплекс \"Лето\" от застройщика \"ГК Дарстрой\" расположен по адресу город Краснодар',\n",
       "       'мкр. ЗИП', 'мкр. Фестивальный', 'мкр. Пашковский',\n",
       "       'мкр. Восточно-Кругликовский', '2-я Площадка мкр',\n",
       "       'на 13 этаже. Новый жилой комплекс \"Dogma park\" от застройщика \"DOGMA\" расположен по адресу город Краснодар',\n",
       "       'Западный Город ЖК',\n",
       "       'на 2 этаже. Новый жилой комплекс \"Лето\" от застройщика \"ГК Дарстрой\" расположен по адресу город Краснодар',\n",
       "       'на 7 этаже. Новый жилой комплекс \"Dogma park\" от застройщика \"DOGMA\" расположен по адресу город Краснодар',\n",
       "       'на 6 этаже. Новый жилой комплекс \"Dogma park\" от застройщика \"DOGMA\" расположен по адресу город Краснодар',\n",
       "       'на 11 этаже. Новый жилой комплекс \"Dogma park\" от застройщика \"DOGMA\" расположен по адресу город Краснодар',\n",
       "       'на 10 этаже. Новый жилой комплекс \"Dogma park\" от застройщика \"DOGMA\" расположен по адресу город Краснодар',\n",
       "       'на 2 этаже. Новый жилой комплекс \"Dogma park\" от застройщика \"DOGMA\" расположен по адресу город Краснодар',\n",
       "       'на 16 этаже. Новый жилой комплекс \"Dogma park\" от застройщика \"DOGMA\" расположен по адресу город Краснодар',\n",
       "       'на 8 этаже. Новый жилой комплекс \"Dogma park\" от застройщика \"DOGMA\" расположен по адресу город Краснодар',\n",
       "       'на 12 этаже. Новый жилой комплекс \"Dogma park\" от застройщика \"DOGMA\" расположен по адресу город Краснодар',\n",
       "       'на 15 этаже. Новый жилой комплекс \"Dogma park\" от застройщика \"DOGMA\" расположен по адресу город Краснодар',\n",
       "       'мкр. Дубинка', 'Завод Измерительных Приборов мкр',\n",
       "       '167; Калининская городская поликлиника No13 г. Краснодар',\n",
       "       'на 6 этаже. Новый жилой комплекс \"Лето\" от застройщика \"ГК Дарстрой\" расположен по адресу город Краснодар',\n",
       "       'мкр. Горхутор',\n",
       "       'на 5 этаже. Новый жилой комплекс \"Лето\" от застройщика \"ГК Дарстрой\" расположен по адресу город Краснодар',\n",
       "       'на 7 этаже. Новый жилой комплекс \"Лето\" от застройщика \"ГК Дарстрой\" расположен по адресу город Краснодар',\n",
       "       'на 5 этаже. Новый жилой комплекс \"Dogma park\" от застройщика \"DOGMA\" расположен по адресу город Краснодар',\n",
       "       'на 12 этаже. Новый жилой комплекс \"Богатырский\" от застройщика \"ГК АльфаСтройИнвест\" расположен по адресу город Краснодар',\n",
       "       'на 1 этаже. Новый жилой комплекс \"Богатырский\" от застройщика \"ГК АльфаСтройИнвест\" расположен по адресу город Краснодар',\n",
       "       'на 2 этаже. Новый жилой комплекс \"Богатырский\" от застройщика \"ГК АльфаСтройИнвест\" расположен по адресу город Краснодар',\n",
       "       'на 19 этаже. Новый жилой комплекс \"Dogma park\" от застройщика \"DOGMA\" расположен по адресу город Краснодар',\n",
       "       'на 4 этаже. Новый жилой комплекс \"Богатырский\" от застройщика \"ГК АльфаСтройИнвест\" расположен по адресу город Краснодар',\n",
       "       'на 3 этаже. Новый жилой комплекс \"Dogma park\" от застройщика \"DOGMA\" расположен по адресу город Краснодар',\n",
       "       'мкр. Комсомольский', 'мкр. ККБ',\n",
       "       'на 16 этаже. Новый жилой комплекс \"Богатырский\" от застройщика \"ГК АльфаСтройИнвест\" расположен по адресу город Краснодар',\n",
       "       'мкр. Немецкая Деревня', 'Солнечный мкр', 'Почтовый мкр'],\n",
       "      dtype=object)"
      ]
     },
     "execution_count": 5,
     "metadata": {},
     "output_type": "execute_result"
    }
   ],
   "source": [
    "data_frame['district'].unique()"
   ]
  },
  {
   "cell_type": "code",
   "execution_count": 6,
   "id": "0e446ccd-7a05-454d-b96d-c971b37d468a",
   "metadata": {},
   "outputs": [],
   "source": [
    "selected_data = data_frame[['price', 'district', 'floor', 'floors_count', 'rooms_count', 'total_meters']].fillna('')\n",
    "mask = selected_data['district'].str.len() > 50\n",
    "selected_data.loc[mask, 'district'] = ''"
   ]
  },
  {
   "cell_type": "code",
   "execution_count": 7,
   "id": "f62e1125-31f0-4041-bc9e-e89744288db8",
   "metadata": {},
   "outputs": [
    {
     "data": {
      "text/plain": [
       "array(['', 'мкр. Школьный', 'мкр. 9-й километр', 'Прикубанский',\n",
       "       'Карасунский', 'мкр. ХБК', 'мкр. Черемушки', 'мкр. КСК',\n",
       "       'мкр. Гидростроителей', 'мкр. РИП', 'Черемушки мкр', 'Центральный',\n",
       "       'мкр. Новознаменский', 'Новая Елизаветка кп', 'Догма Парк мкр',\n",
       "       'мкр. Табачная фабрика', 'мкр. Калинино', 'Плодородный-2 мкр',\n",
       "       'Сады Калинина мкр', 'мкр. Славянский', 'Новознаменский ДНТ',\n",
       "       'Имени Петра Метальникова мкр', 'Имени Демьяна Бедного жилмассив',\n",
       "       'мкр. Аврора', 'мкр. Центральный', 'Музыкальный мкр',\n",
       "       'Зеленодар ЖК', 'мкр. ЗИП', 'мкр. Фестивальный', 'мкр. Пашковский',\n",
       "       'мкр. Восточно-Кругликовский', '2-я Площадка мкр',\n",
       "       'Западный Город ЖК', 'мкр. Дубинка',\n",
       "       'Завод Измерительных Приборов мкр', 'мкр. Горхутор',\n",
       "       'мкр. Комсомольский', 'мкр. ККБ', 'мкр. Немецкая Деревня',\n",
       "       'Солнечный мкр', 'Почтовый мкр'], dtype=object)"
      ]
     },
     "execution_count": 7,
     "metadata": {},
     "output_type": "execute_result"
    }
   ],
   "source": [
    "selected_data['district'].unique()"
   ]
  },
  {
   "cell_type": "code",
   "execution_count": 8,
   "id": "941189fb-760b-4f24-8937-ba81920c4454",
   "metadata": {},
   "outputs": [],
   "source": [
    "data_frame = data_frame[data_frame['rooms_count'] > 0]\n",
    "data_frame = data_frame.fillna(0)"
   ]
  },
  {
   "cell_type": "code",
   "execution_count": 9,
   "id": "2c88c7bc-e718-4de7-9a36-76ade47b9615",
   "metadata": {},
   "outputs": [],
   "source": [
    "ohe = OneHotEncoder(handle_unknown='ignore', sparse_output=False).set_output(transform='pandas')\n",
    "ddd = ohe.fit_transform(selected_data[['district']])\n",
    "final_data = pd.concat([selected_data, ddd], axis=1)\n",
    "final_data = final_data.drop('district', axis=1)"
   ]
  },
  {
   "cell_type": "code",
   "execution_count": 10,
   "id": "45aa58c1-c6fc-4a68-9b1c-6aabfe1acae6",
   "metadata": {},
   "outputs": [
    {
     "data": {
      "text/html": [
       "<div>\n",
       "<style scoped>\n",
       "    .dataframe tbody tr th:only-of-type {\n",
       "        vertical-align: middle;\n",
       "    }\n",
       "\n",
       "    .dataframe tbody tr th {\n",
       "        vertical-align: top;\n",
       "    }\n",
       "\n",
       "    .dataframe thead th {\n",
       "        text-align: right;\n",
       "    }\n",
       "</style>\n",
       "<table border=\"1\" class=\"dataframe\">\n",
       "  <thead>\n",
       "    <tr style=\"text-align: right;\">\n",
       "      <th></th>\n",
       "      <th>price</th>\n",
       "      <th>floor</th>\n",
       "      <th>floors_count</th>\n",
       "      <th>rooms_count</th>\n",
       "      <th>total_meters</th>\n",
       "      <th>district_</th>\n",
       "      <th>district_2-я Площадка мкр</th>\n",
       "      <th>district_Догма Парк мкр</th>\n",
       "      <th>district_Завод Измерительных Приборов мкр</th>\n",
       "      <th>district_Западный Город ЖК</th>\n",
       "      <th>...</th>\n",
       "      <th>district_мкр. Новознаменский</th>\n",
       "      <th>district_мкр. Пашковский</th>\n",
       "      <th>district_мкр. РИП</th>\n",
       "      <th>district_мкр. Славянский</th>\n",
       "      <th>district_мкр. Табачная фабрика</th>\n",
       "      <th>district_мкр. Фестивальный</th>\n",
       "      <th>district_мкр. ХБК</th>\n",
       "      <th>district_мкр. Центральный</th>\n",
       "      <th>district_мкр. Черемушки</th>\n",
       "      <th>district_мкр. Школьный</th>\n",
       "    </tr>\n",
       "  </thead>\n",
       "  <tbody>\n",
       "    <tr>\n",
       "      <th>0</th>\n",
       "      <td>7333600</td>\n",
       "      <td>2</td>\n",
       "      <td>17</td>\n",
       "      <td>1</td>\n",
       "      <td>35.60</td>\n",
       "      <td>1.0</td>\n",
       "      <td>0.0</td>\n",
       "      <td>0.0</td>\n",
       "      <td>0.0</td>\n",
       "      <td>0.0</td>\n",
       "      <td>...</td>\n",
       "      <td>0.0</td>\n",
       "      <td>0.0</td>\n",
       "      <td>0.0</td>\n",
       "      <td>0.0</td>\n",
       "      <td>0.0</td>\n",
       "      <td>0.0</td>\n",
       "      <td>0.0</td>\n",
       "      <td>0.0</td>\n",
       "      <td>0.0</td>\n",
       "      <td>0.0</td>\n",
       "    </tr>\n",
       "    <tr>\n",
       "      <th>1</th>\n",
       "      <td>7800000</td>\n",
       "      <td>11</td>\n",
       "      <td>25</td>\n",
       "      <td>1</td>\n",
       "      <td>39.00</td>\n",
       "      <td>0.0</td>\n",
       "      <td>0.0</td>\n",
       "      <td>0.0</td>\n",
       "      <td>0.0</td>\n",
       "      <td>0.0</td>\n",
       "      <td>...</td>\n",
       "      <td>0.0</td>\n",
       "      <td>0.0</td>\n",
       "      <td>0.0</td>\n",
       "      <td>0.0</td>\n",
       "      <td>0.0</td>\n",
       "      <td>0.0</td>\n",
       "      <td>0.0</td>\n",
       "      <td>0.0</td>\n",
       "      <td>0.0</td>\n",
       "      <td>1.0</td>\n",
       "    </tr>\n",
       "    <tr>\n",
       "      <th>2</th>\n",
       "      <td>6539520</td>\n",
       "      <td>3</td>\n",
       "      <td>12</td>\n",
       "      <td>1</td>\n",
       "      <td>41.60</td>\n",
       "      <td>0.0</td>\n",
       "      <td>0.0</td>\n",
       "      <td>0.0</td>\n",
       "      <td>0.0</td>\n",
       "      <td>0.0</td>\n",
       "      <td>...</td>\n",
       "      <td>0.0</td>\n",
       "      <td>0.0</td>\n",
       "      <td>0.0</td>\n",
       "      <td>0.0</td>\n",
       "      <td>0.0</td>\n",
       "      <td>0.0</td>\n",
       "      <td>0.0</td>\n",
       "      <td>0.0</td>\n",
       "      <td>0.0</td>\n",
       "      <td>0.0</td>\n",
       "    </tr>\n",
       "    <tr>\n",
       "      <th>3</th>\n",
       "      <td>4354200</td>\n",
       "      <td>9</td>\n",
       "      <td>16</td>\n",
       "      <td>1</td>\n",
       "      <td>35.40</td>\n",
       "      <td>0.0</td>\n",
       "      <td>0.0</td>\n",
       "      <td>0.0</td>\n",
       "      <td>0.0</td>\n",
       "      <td>0.0</td>\n",
       "      <td>...</td>\n",
       "      <td>0.0</td>\n",
       "      <td>0.0</td>\n",
       "      <td>0.0</td>\n",
       "      <td>0.0</td>\n",
       "      <td>0.0</td>\n",
       "      <td>0.0</td>\n",
       "      <td>0.0</td>\n",
       "      <td>0.0</td>\n",
       "      <td>0.0</td>\n",
       "      <td>0.0</td>\n",
       "    </tr>\n",
       "    <tr>\n",
       "      <th>4</th>\n",
       "      <td>5021580</td>\n",
       "      <td>15</td>\n",
       "      <td>16</td>\n",
       "      <td>1</td>\n",
       "      <td>32.95</td>\n",
       "      <td>0.0</td>\n",
       "      <td>0.0</td>\n",
       "      <td>0.0</td>\n",
       "      <td>0.0</td>\n",
       "      <td>0.0</td>\n",
       "      <td>...</td>\n",
       "      <td>0.0</td>\n",
       "      <td>0.0</td>\n",
       "      <td>0.0</td>\n",
       "      <td>0.0</td>\n",
       "      <td>0.0</td>\n",
       "      <td>0.0</td>\n",
       "      <td>0.0</td>\n",
       "      <td>0.0</td>\n",
       "      <td>0.0</td>\n",
       "      <td>0.0</td>\n",
       "    </tr>\n",
       "    <tr>\n",
       "      <th>...</th>\n",
       "      <td>...</td>\n",
       "      <td>...</td>\n",
       "      <td>...</td>\n",
       "      <td>...</td>\n",
       "      <td>...</td>\n",
       "      <td>...</td>\n",
       "      <td>...</td>\n",
       "      <td>...</td>\n",
       "      <td>...</td>\n",
       "      <td>...</td>\n",
       "      <td>...</td>\n",
       "      <td>...</td>\n",
       "      <td>...</td>\n",
       "      <td>...</td>\n",
       "      <td>...</td>\n",
       "      <td>...</td>\n",
       "      <td>...</td>\n",
       "      <td>...</td>\n",
       "      <td>...</td>\n",
       "      <td>...</td>\n",
       "      <td>...</td>\n",
       "    </tr>\n",
       "    <tr>\n",
       "      <th>4550</th>\n",
       "      <td>8600000</td>\n",
       "      <td>2</td>\n",
       "      <td>24</td>\n",
       "      <td>3</td>\n",
       "      <td>77.00</td>\n",
       "      <td>0.0</td>\n",
       "      <td>0.0</td>\n",
       "      <td>0.0</td>\n",
       "      <td>0.0</td>\n",
       "      <td>0.0</td>\n",
       "      <td>...</td>\n",
       "      <td>0.0</td>\n",
       "      <td>0.0</td>\n",
       "      <td>0.0</td>\n",
       "      <td>0.0</td>\n",
       "      <td>0.0</td>\n",
       "      <td>0.0</td>\n",
       "      <td>0.0</td>\n",
       "      <td>0.0</td>\n",
       "      <td>0.0</td>\n",
       "      <td>0.0</td>\n",
       "    </tr>\n",
       "    <tr>\n",
       "      <th>4551</th>\n",
       "      <td>14950000</td>\n",
       "      <td>10</td>\n",
       "      <td>16</td>\n",
       "      <td>3</td>\n",
       "      <td>74.00</td>\n",
       "      <td>0.0</td>\n",
       "      <td>0.0</td>\n",
       "      <td>0.0</td>\n",
       "      <td>0.0</td>\n",
       "      <td>0.0</td>\n",
       "      <td>...</td>\n",
       "      <td>0.0</td>\n",
       "      <td>0.0</td>\n",
       "      <td>0.0</td>\n",
       "      <td>0.0</td>\n",
       "      <td>0.0</td>\n",
       "      <td>0.0</td>\n",
       "      <td>0.0</td>\n",
       "      <td>0.0</td>\n",
       "      <td>0.0</td>\n",
       "      <td>0.0</td>\n",
       "    </tr>\n",
       "    <tr>\n",
       "      <th>4552</th>\n",
       "      <td>9720000</td>\n",
       "      <td>7</td>\n",
       "      <td>7</td>\n",
       "      <td>2</td>\n",
       "      <td>88.30</td>\n",
       "      <td>0.0</td>\n",
       "      <td>0.0</td>\n",
       "      <td>0.0</td>\n",
       "      <td>0.0</td>\n",
       "      <td>0.0</td>\n",
       "      <td>...</td>\n",
       "      <td>0.0</td>\n",
       "      <td>0.0</td>\n",
       "      <td>0.0</td>\n",
       "      <td>0.0</td>\n",
       "      <td>0.0</td>\n",
       "      <td>0.0</td>\n",
       "      <td>0.0</td>\n",
       "      <td>0.0</td>\n",
       "      <td>0.0</td>\n",
       "      <td>0.0</td>\n",
       "    </tr>\n",
       "    <tr>\n",
       "      <th>4553</th>\n",
       "      <td>5400000</td>\n",
       "      <td>14</td>\n",
       "      <td>17</td>\n",
       "      <td>2</td>\n",
       "      <td>42.21</td>\n",
       "      <td>0.0</td>\n",
       "      <td>0.0</td>\n",
       "      <td>0.0</td>\n",
       "      <td>0.0</td>\n",
       "      <td>0.0</td>\n",
       "      <td>...</td>\n",
       "      <td>0.0</td>\n",
       "      <td>0.0</td>\n",
       "      <td>0.0</td>\n",
       "      <td>0.0</td>\n",
       "      <td>0.0</td>\n",
       "      <td>0.0</td>\n",
       "      <td>0.0</td>\n",
       "      <td>0.0</td>\n",
       "      <td>0.0</td>\n",
       "      <td>0.0</td>\n",
       "    </tr>\n",
       "    <tr>\n",
       "      <th>4554</th>\n",
       "      <td>6466000</td>\n",
       "      <td>15</td>\n",
       "      <td>25</td>\n",
       "      <td>2</td>\n",
       "      <td>68.00</td>\n",
       "      <td>0.0</td>\n",
       "      <td>0.0</td>\n",
       "      <td>0.0</td>\n",
       "      <td>0.0</td>\n",
       "      <td>0.0</td>\n",
       "      <td>...</td>\n",
       "      <td>0.0</td>\n",
       "      <td>0.0</td>\n",
       "      <td>0.0</td>\n",
       "      <td>0.0</td>\n",
       "      <td>0.0</td>\n",
       "      <td>0.0</td>\n",
       "      <td>0.0</td>\n",
       "      <td>0.0</td>\n",
       "      <td>0.0</td>\n",
       "      <td>0.0</td>\n",
       "    </tr>\n",
       "  </tbody>\n",
       "</table>\n",
       "<p>4389 rows × 46 columns</p>\n",
       "</div>"
      ],
      "text/plain": [
       "         price  floor  floors_count  rooms_count  total_meters  district_  \\\n",
       "0      7333600      2            17            1         35.60        1.0   \n",
       "1      7800000     11            25            1         39.00        0.0   \n",
       "2      6539520      3            12            1         41.60        0.0   \n",
       "3      4354200      9            16            1         35.40        0.0   \n",
       "4      5021580     15            16            1         32.95        0.0   \n",
       "...        ...    ...           ...          ...           ...        ...   \n",
       "4550   8600000      2            24            3         77.00        0.0   \n",
       "4551  14950000     10            16            3         74.00        0.0   \n",
       "4552   9720000      7             7            2         88.30        0.0   \n",
       "4553   5400000     14            17            2         42.21        0.0   \n",
       "4554   6466000     15            25            2         68.00        0.0   \n",
       "\n",
       "      district_2-я Площадка мкр  district_Догма Парк мкр  \\\n",
       "0                           0.0                      0.0   \n",
       "1                           0.0                      0.0   \n",
       "2                           0.0                      0.0   \n",
       "3                           0.0                      0.0   \n",
       "4                           0.0                      0.0   \n",
       "...                         ...                      ...   \n",
       "4550                        0.0                      0.0   \n",
       "4551                        0.0                      0.0   \n",
       "4552                        0.0                      0.0   \n",
       "4553                        0.0                      0.0   \n",
       "4554                        0.0                      0.0   \n",
       "\n",
       "      district_Завод Измерительных Приборов мкр  district_Западный Город ЖК  \\\n",
       "0                                           0.0                         0.0   \n",
       "1                                           0.0                         0.0   \n",
       "2                                           0.0                         0.0   \n",
       "3                                           0.0                         0.0   \n",
       "4                                           0.0                         0.0   \n",
       "...                                         ...                         ...   \n",
       "4550                                        0.0                         0.0   \n",
       "4551                                        0.0                         0.0   \n",
       "4552                                        0.0                         0.0   \n",
       "4553                                        0.0                         0.0   \n",
       "4554                                        0.0                         0.0   \n",
       "\n",
       "      ...  district_мкр. Новознаменский  district_мкр. Пашковский  \\\n",
       "0     ...                           0.0                       0.0   \n",
       "1     ...                           0.0                       0.0   \n",
       "2     ...                           0.0                       0.0   \n",
       "3     ...                           0.0                       0.0   \n",
       "4     ...                           0.0                       0.0   \n",
       "...   ...                           ...                       ...   \n",
       "4550  ...                           0.0                       0.0   \n",
       "4551  ...                           0.0                       0.0   \n",
       "4552  ...                           0.0                       0.0   \n",
       "4553  ...                           0.0                       0.0   \n",
       "4554  ...                           0.0                       0.0   \n",
       "\n",
       "      district_мкр. РИП  district_мкр. Славянский  \\\n",
       "0                   0.0                       0.0   \n",
       "1                   0.0                       0.0   \n",
       "2                   0.0                       0.0   \n",
       "3                   0.0                       0.0   \n",
       "4                   0.0                       0.0   \n",
       "...                 ...                       ...   \n",
       "4550                0.0                       0.0   \n",
       "4551                0.0                       0.0   \n",
       "4552                0.0                       0.0   \n",
       "4553                0.0                       0.0   \n",
       "4554                0.0                       0.0   \n",
       "\n",
       "      district_мкр. Табачная фабрика  district_мкр. Фестивальный  \\\n",
       "0                                0.0                         0.0   \n",
       "1                                0.0                         0.0   \n",
       "2                                0.0                         0.0   \n",
       "3                                0.0                         0.0   \n",
       "4                                0.0                         0.0   \n",
       "...                              ...                         ...   \n",
       "4550                             0.0                         0.0   \n",
       "4551                             0.0                         0.0   \n",
       "4552                             0.0                         0.0   \n",
       "4553                             0.0                         0.0   \n",
       "4554                             0.0                         0.0   \n",
       "\n",
       "      district_мкр. ХБК  district_мкр. Центральный  district_мкр. Черемушки  \\\n",
       "0                   0.0                        0.0                      0.0   \n",
       "1                   0.0                        0.0                      0.0   \n",
       "2                   0.0                        0.0                      0.0   \n",
       "3                   0.0                        0.0                      0.0   \n",
       "4                   0.0                        0.0                      0.0   \n",
       "...                 ...                        ...                      ...   \n",
       "4550                0.0                        0.0                      0.0   \n",
       "4551                0.0                        0.0                      0.0   \n",
       "4552                0.0                        0.0                      0.0   \n",
       "4553                0.0                        0.0                      0.0   \n",
       "4554                0.0                        0.0                      0.0   \n",
       "\n",
       "      district_мкр. Школьный  \n",
       "0                        0.0  \n",
       "1                        1.0  \n",
       "2                        0.0  \n",
       "3                        0.0  \n",
       "4                        0.0  \n",
       "...                      ...  \n",
       "4550                     0.0  \n",
       "4551                     0.0  \n",
       "4552                     0.0  \n",
       "4553                     0.0  \n",
       "4554                     0.0  \n",
       "\n",
       "[4389 rows x 46 columns]"
      ]
     },
     "execution_count": 10,
     "metadata": {},
     "output_type": "execute_result"
    }
   ],
   "source": [
    "final_data"
   ]
  },
  {
   "cell_type": "code",
   "execution_count": 11,
   "id": "6b8b507f-b92c-44d7-bb00-8da540573274",
   "metadata": {},
   "outputs": [],
   "source": [
    "final_data = final_data.to_numpy()\n",
    "data_train, data_test = train_test_split(\n",
    "    final_data, \n",
    "    test_size=0.1, \n",
    "    random_state=100)\n",
    "y_train, X_train = data_train[:, 0], data_train[:, 1:]\n",
    "y_test, X_test = data_test[:, 0], data_test[:, 1:]"
   ]
  },
  {
   "cell_type": "code",
   "execution_count": 12,
   "id": "e09abe6c-b292-4e7e-8ba1-9a298135f54d",
   "metadata": {},
   "outputs": [
    {
     "name": "stdout",
     "output_type": "stream",
     "text": [
      "[6.46445187e+00 6.03126789e+00 9.20951314e-01 2.77570335e+01\n",
      " 4.82633445e-01 3.18061747e-02 1.48404752e-01 2.75484453e-02\n",
      " 8.68173580e-02 7.27199491e-02 1.59091315e-02 7.27199491e-02\n",
      " 1.82977037e-01 6.35155515e-02 2.24960606e-02 4.76790262e-02\n",
      " 1.71629886e-01 1.59091315e-02 4.14417311e-01 4.20596169e-02\n",
      " 1.59091315e-02 1.22307568e-01 5.02517297e-02 1.07284437e-01\n",
      " 5.94284587e-02 5.50340385e-02 5.26977700e-02 1.59091315e-02\n",
      " 1.59091315e-02 4.49579198e-02 1.59091315e-02 1.02566333e-01\n",
      " 3.01009997e-01 2.24960606e-02 3.89445762e-02 8.08637873e-02\n",
      " 4.20596169e-02 1.68125856e-01 9.76099580e-02 1.61602296e-01\n",
      " 3.55558782e-02 1.60859134e-01 1.59091315e-02 1.53206397e-01\n",
      " 1.10685038e-01]\n"
     ]
    },
    {
     "data": {
      "text/plain": [
       "array([[ 2.  ,  9.  ,  2.  , 76.04,  0.  ,  0.  ,  0.  ,  0.  ,  1.  ,\n",
       "         0.  ,  0.  ,  0.  ,  0.  ,  0.  ,  0.  ,  0.  ,  0.  ,  0.  ,\n",
       "         0.  ,  0.  ,  0.  ,  0.  ,  0.  ,  0.  ,  0.  ,  0.  ,  0.  ,\n",
       "         0.  ,  0.  ,  0.  ,  0.  ,  0.  ,  0.  ,  0.  ,  0.  ,  0.  ,\n",
       "         0.  ,  0.  ,  0.  ,  0.  ,  0.  ,  0.  ,  0.  ,  0.  ,  0.  ],\n",
       "       [11.  , 16.  ,  1.  , 41.8 ,  0.  ,  0.  ,  0.  ,  0.  ,  0.  ,\n",
       "         0.  ,  0.  ,  0.  ,  0.  ,  0.  ,  0.  ,  0.  ,  0.  ,  0.  ,\n",
       "         1.  ,  0.  ,  0.  ,  0.  ,  0.  ,  0.  ,  0.  ,  0.  ,  0.  ,\n",
       "         0.  ,  0.  ,  0.  ,  0.  ,  0.  ,  0.  ,  0.  ,  0.  ,  0.  ,\n",
       "         0.  ,  0.  ,  0.  ,  0.  ,  0.  ,  0.  ,  0.  ,  0.  ,  0.  ],\n",
       "       [ 2.  ,  7.  ,  2.  , 62.11,  1.  ,  0.  ,  0.  ,  0.  ,  0.  ,\n",
       "         0.  ,  0.  ,  0.  ,  0.  ,  0.  ,  0.  ,  0.  ,  0.  ,  0.  ,\n",
       "         0.  ,  0.  ,  0.  ,  0.  ,  0.  ,  0.  ,  0.  ,  0.  ,  0.  ,\n",
       "         0.  ,  0.  ,  0.  ,  0.  ,  0.  ,  0.  ,  0.  ,  0.  ,  0.  ,\n",
       "         0.  ,  0.  ,  0.  ,  0.  ,  0.  ,  0.  ,  0.  ,  0.  ,  0.  ],\n",
       "       [ 2.  , 18.  ,  3.  , 70.23,  1.  ,  0.  ,  0.  ,  0.  ,  0.  ,\n",
       "         0.  ,  0.  ,  0.  ,  0.  ,  0.  ,  0.  ,  0.  ,  0.  ,  0.  ,\n",
       "         0.  ,  0.  ,  0.  ,  0.  ,  0.  ,  0.  ,  0.  ,  0.  ,  0.  ,\n",
       "         0.  ,  0.  ,  0.  ,  0.  ,  0.  ,  0.  ,  0.  ,  0.  ,  0.  ,\n",
       "         0.  ,  0.  ,  0.  ,  0.  ,  0.  ,  0.  ,  0.  ,  0.  ,  0.  ],\n",
       "       [ 2.  , 13.  ,  3.  , 75.87,  1.  ,  0.  ,  0.  ,  0.  ,  0.  ,\n",
       "         0.  ,  0.  ,  0.  ,  0.  ,  0.  ,  0.  ,  0.  ,  0.  ,  0.  ,\n",
       "         0.  ,  0.  ,  0.  ,  0.  ,  0.  ,  0.  ,  0.  ,  0.  ,  0.  ,\n",
       "         0.  ,  0.  ,  0.  ,  0.  ,  0.  ,  0.  ,  0.  ,  0.  ,  0.  ,\n",
       "         0.  ,  0.  ,  0.  ,  0.  ,  0.  ,  0.  ,  0.  ,  0.  ,  0.  ]])"
      ]
     },
     "execution_count": 12,
     "metadata": {},
     "output_type": "execute_result"
    }
   ],
   "source": [
    "std = X_train.std(axis=0)\n",
    "print(std)\n",
    "X_train[:5]"
   ]
  },
  {
   "cell_type": "code",
   "execution_count": 13,
   "id": "d5ba8c28-0d13-4d84-b6f2-452974791fdd",
   "metadata": {},
   "outputs": [],
   "source": [
    "mean = X_train.mean(axis=0)\n",
    "X_train -= mean\n",
    "X_test -= mean\n",
    "std = X_train.std(axis=0)\n",
    "X_train /= std\n",
    "X_test /= std"
   ]
  },
  {
   "cell_type": "code",
   "execution_count": 14,
   "id": "567100ee-ee8a-48e6-b874-cb51d715e03d",
   "metadata": {},
   "outputs": [],
   "source": [
    "X_tr, X_val, y_tr, y_val = train_test_split(\n",
    "    X_train, y_train, \n",
    "    test_size=0.1, \n",
    "    random_state=100)"
   ]
  },
  {
   "cell_type": "code",
   "execution_count": 15,
   "id": "4466d631-a879-456a-8459-21c07ec374f5",
   "metadata": {},
   "outputs": [
    {
     "name": "stderr",
     "output_type": "stream",
     "text": [
      "/home/kitaro/diploma/final_parser/.venv/lib/python3.10/site-packages/keras/src/layers/core/dense.py:87: UserWarning: Do not pass an `input_shape`/`input_dim` argument to a layer. When using Sequential models, prefer using an `Input(shape)` object as the first layer in the model instead.\n",
      "  super().__init__(activity_regularizer=activity_regularizer, **kwargs)\n"
     ]
    }
   ],
   "source": [
    "model = models.Sequential()\n",
    "model.add(\n",
    "    layers.Dense(\n",
    "        1024, activation='relu',\n",
    "        input_shape=(X_train.shape[1],),\n",
    "        kernel_regularizer=regularizers.l1_l2(0.001, 0.001)\n",
    "    )\n",
    ")\n",
    "model.add(layers.Dense(\n",
    "    2048, activation='tanh',\n",
    "    kernel_regularizer=regularizers.l1_l2(0.001, 0.001)\n",
    "    )\n",
    ")\n",
    "model.add(\n",
    "    layers.Dense(\n",
    "        512, activation='relu', \n",
    "        kernel_regularizer=regularizers.l1_l2(0.001, 0.001)\n",
    "    )\n",
    ")\n",
    "model.add(\n",
    "    layers.Dense(\n",
    "        256, activation='relu', \n",
    "        kernel_regularizer=regularizers.l1_l2(0.001, 0.001)\n",
    "    )\n",
    ")\n",
    "model.add(layers.Dense(1))\n",
    "model.compile(optimizer='rmsprop', loss='mse', metrics=['mae'])"
   ]
  },
  {
   "cell_type": "code",
   "execution_count": 16,
   "id": "6492021e-c030-4731-89fb-f5061cfa0e11",
   "metadata": {
    "scrolled": true
   },
   "outputs": [
    {
     "name": "stdout",
     "output_type": "stream",
     "text": [
      "\u001B[1m13/13\u001B[0m \u001B[32m━━━━━━━━━━━━━━━━━━━━\u001B[0m\u001B[37m\u001B[0m \u001B[1m0s\u001B[0m 8ms/step - loss: 4159358631936.0000 - mae: 1165256.1250\n"
     ]
    }
   ],
   "source": [
    "history = model.fit(X_tr, y_tr, epochs=100, batch_size=16, verbose=0, validation_data=(X_val, y_val))\n",
    "val_mse_score, val_mae_score = model.evaluate(X_val, y_val)"
   ]
  },
  {
   "cell_type": "code",
   "execution_count": 15,
   "id": "758be633-9358-4da5-8e90-e23b89a33b62",
   "metadata": {},
   "outputs": [
    {
     "name": "stderr",
     "output_type": "stream",
     "text": [
      "WARNING:absl:You are saving your model as an HDF5 file via `model.save()` or `keras.saving.save_model(model)`. This file format is considered legacy. We recommend using instead the native Keras format, e.g. `model.save('my_model.keras')` or `keras.saving.save_model(model, 'my_model.keras')`. \n"
     ]
    }
   ],
   "source": "model.save('/home/kitaro/diploma/ml_predict_flat_costs/models/flat_model.h5')"
  },
  {
   "cell_type": "code",
   "execution_count": 17,
   "id": "279148b0-4fc8-44c8-b29c-9e7664680d84",
   "metadata": {},
   "outputs": [
    {
     "data": {
      "image/png": "[encoded data removed]",
      "text/plain": [
       "<Figure size 2000x300 with 1 Axes>"
      ]
     },
     "metadata": {},
     "output_type": "display_data"
    }
   ],
   "source": [
    "history_dict = history.history\n",
    "loss_values = history_dict['loss']\n",
    "val_loss_values = history_dict['val_loss']\n",
    "\n",
    "epochs = range(1, len(history_dict['mae']) + 1)\n",
    "\n",
    "plt.figure(figsize=(20, 3))\n",
    "plt.plot(epochs, loss_values, 'bo', label='Training loss')\n",
    "plt.plot(epochs, val_loss_values, 'b', label='Validation loss')\n",
    "plt.title('Training and validation loss')\n",
    "plt.xlabel('Epochs')\n",
    "plt.ylabel('Loss')\n",
    "plt.legend()\n",
    "\n",
    "plt.show()"
   ]
  },
  {
   "cell_type": "code",
   "execution_count": 18,
   "id": "6311e756-c604-4de1-b7f5-7d712e6ca852",
   "metadata": {},
   "outputs": [
    {
     "name": "stdout",
     "output_type": "stream",
     "text": [
      "\u001B[1m14/14\u001B[0m \u001B[32m━━━━━━━━━━━━━━━━━━━━\u001B[0m\u001B[37m\u001B[0m \u001B[1m0s\u001B[0m 8ms/step - loss: 3981882949632.0000 - mae: 1175287.6250\n"
     ]
    }
   ],
   "source": [
    "# y_pred = model.predict(X_test)\n",
    "# на тестовой меньше ошибка \n",
    "mse, mae = model.evaluate(X_test, y_test, verbose=1)"
   ]
  },
  {
   "cell_type": "code",
   "execution_count": 19,
   "id": "02dee529-d930-4dd1-937e-cc375e90b320",
   "metadata": {},
   "outputs": [
    {
     "name": "stdout",
     "output_type": "stream",
     "text": [
      "\u001B[1m14/14\u001B[0m \u001B[32m━━━━━━━━━━━━━━━━━━━━\u001B[0m\u001B[37m\u001B[0m \u001B[1m0s\u001B[0m 5ms/step\n",
      "6989722.5 7402140.0\n"
     ]
    }
   ],
   "source": [
    "y_pred = model.predict(X_test)\n",
    "\n",
    "print(y_pred[9][0], y_test[9])"
   ]
  },
  {
   "cell_type": "code",
   "execution_count": 17,
   "id": "0f38aef2-5b0f-43e4-81cf-a5ca9ef6c623",
   "metadata": {},
   "outputs": [
    {
     "name": "stdout",
     "output_type": "stream",
     "text": [
      "\u001B[1m14/14\u001B[0m \u001B[32m━━━━━━━━━━━━━━━━━━━━\u001B[0m\u001B[37m\u001B[0m \u001B[1m0s\u001B[0m 3ms/step \n",
      "6741129.5 7402140.0\n"
     ]
    }
   ],
   "source": [
    "y_pred = model.predict(X_test)\n",
    "\n",
    "print(y_pred[9][0], y_test[9])"
   ]
  },
  {
   "cell_type": "code",
   "execution_count": 90,
   "id": "84491ba5-6599-459c-9d3c-78cd2d9604f5",
   "metadata": {},
   "outputs": [],
   "source": [
    "merg_ = ddd[:1]\n",
    "## Создадим тестовые данные для модели в кка\n",
    "df_t = pd.DataFrame([{\n",
    "    'floor': 5,\n",
    "    'floors_count': 24,\n",
    "    'rooms_count': 1,\n",
    "    'total_meters': 36.5,\n",
    "}])\n",
    "new = pd.concat([df_t, merg_], axis=1)\n",
    "new[['district_']]= 0.0\n",
    "new[['district_мкр. Школьный']]= 0.0\n",
    "new[['district_Завод Измерительных Приборов мкр']]= 0.0\n",
    "new[['district_Черемушки мкр']]= 1.0\n",
    "new[['district_Догма Парк мкр']]= 0.0"
   ]
  },
  {
   "cell_type": "code",
   "execution_count": 91,
   "id": "67af7d50-8f67-4383-bb1b-b8a929482d4d",
   "metadata": {},
   "outputs": [],
   "source": [
    "new -= mean\n",
    "new /= std"
   ]
  },
  {
   "cell_type": "code",
   "execution_count": 92,
   "id": "568fd5e7-f4db-442e-92e5-33e2286978bf",
   "metadata": {
    "scrolled": true
   },
   "outputs": [
    {
     "data": {
      "text/plain": [
       "array([ 5260080.,  4848692.,  5541930., 20179500., 20728425.,  7544000.,\n",
       "        5778300.,  4710100.,  4927000.,  7402140.])"
      ]
     },
     "execution_count": 92,
     "metadata": {},
     "output_type": "execute_result"
    }
   ],
   "source": [
    "y_test[:10]"
   ]
  },
  {
   "cell_type": "code",
   "execution_count": 93,
   "id": "dfe36fe2-97dc-4a90-8e81-0394ca8ade3a",
   "metadata": {},
   "outputs": [
    {
     "name": "stdout",
     "output_type": "stream",
     "text": [
      "\u001B[1m1/1\u001B[0m \u001B[32m━━━━━━━━━━━━━━━━━━━━\u001B[0m\u001B[37m\u001B[0m \u001B[1m0s\u001B[0m 15ms/step\n",
      "7227104.5\n"
     ]
    }
   ],
   "source": [
    "new = new.to_numpy() \n",
    "new_pred_test = model.predict(new)\n",
    "print(new_pred_test[0][0])"
   ]
  },
  {
   "cell_type": "code",
   "execution_count": null,
   "id": "a312f2c1-8af7-4d81-b09a-7dbe3762d8c7",
   "metadata": {},
   "outputs": [],
   "source": []
  }
 ],
 "metadata": {
  "kernelspec": {
   "display_name": "Python 3 (ipykernel)",
   "language": "python",
   "name": "python3"
  },
  "language_info": {
   "codemirror_mode": {
    "name": "ipython",
    "version": 3
   },
   "file_extension": ".py",
   "mimetype": "text/x-python",
   "name": "python",
   "nbconvert_exporter": "python",
   "pygments_lexer": "ipython3",
   "version": "3.10.12"
  }
 },
 "nbformat": 4,
 "nbformat_minor": 5
}
